{
 "cells": [
  {
   "cell_type": "markdown",
   "metadata": {},
   "source": [
    "# IMPORT MAIN PACKAGES"
   ]
  },
  {
   "cell_type": "code",
   "execution_count": 1,
   "metadata": {},
   "outputs": [],
   "source": [
    "import pandas as pd\n",
    "import numpy as np\n",
    "import geopandas as gpd\n",
    "import gc\n",
    "# Read in shapefile and examine data\n",
    "fp = \"C:/Users/OLYMPIA/Europe/E1/CNTR_RG_01M_2016_4326.shp\"\n",
    "fk = \"C:/Users/OLYMPIA/Europe/E2/CNTR_BN_01M_2016_4326.shp\"\n",
    "fi = \"C:/Users/OLYMPIA/Europe/I1/it_100km.shp\"\n",
    "fe = \"C:/Users/OLYMPIA/Europe/E3/Europe_coastline_poly.shp\"\n",
    "fa = \"C:/Users/OLYMPIA/Europe/E3/Europe_coastline_poly.shp\"\n",
    "fz = \"C:/Users/OLYMPIA/Europe/E4/NUTS_BN_01M_2016_4326.shp\"\n"
   ]
  },
  {
   "cell_type": "markdown",
   "metadata": {},
   "source": [
    "# Import Shapely files for geoplotting and dataset related to selection processes\n"
   ]
  },
  {
   "cell_type": "code",
   "execution_count": 2,
   "metadata": {},
   "outputs": [],
   "source": [
    "euro = gpd.read_file(fp)"
   ]
  },
  {
   "cell_type": "code",
   "execution_count": 3,
   "metadata": {},
   "outputs": [],
   "source": [
    "Super_euro = euro[euro['NAME_ENGL'].isin(['Italy', 'France', 'Spain', 'Austria', 'Switzerland', 'Germany', 'Denmark', \n",
    "                                           'Netherlands', 'Belgium', 'Luxembourg', 'Portugal', 'United Kingdom',\n",
    "                                           'Ireland', 'Slovenia', 'Czechia', 'Hungary', 'Croatia', 'Slovakia',\n",
    "                                            'Bulgaria','Bosnia and Herzegovina', 'Montenegro', \n",
    "                                           'Serbia', 'North Macedonia', 'Albania', 'Greece', 'Andorra', 'Liechtenstein'])]\n",
    "\n",
    "#'Romania'\n",
    "#'Poland'"
   ]
  },
  {
   "cell_type": "code",
   "execution_count": 4,
   "metadata": {},
   "outputs": [],
   "source": [
    "job_sea_20 = pd.ExcelFile(r'C:\\Users\\OLYMPIA\\Desktop\\Personal Andrea\\ASSEGNO LAVORO\\Report Job Search 2019\\Job_sea_2020_Geo.xlsx')\n",
    "job_sea_20 = job_sea_20.parse('Research', encoding='latin_1')\n",
    "df3 = job_sea_20.loc[:, ['Id', 'Date_first', 'State', 'City', 'Position', 'Job_Families', 'Latitude', 'Longitude',\n",
    "                         'Source','Reason']]"
   ]
  },
  {
   "cell_type": "markdown",
   "metadata": {},
   "source": [
    "# Enrich SUPER_EURO Dataset by adding the number of processes"
   ]
  },
  {
   "cell_type": "code",
   "execution_count": 5,
   "metadata": {},
   "outputs": [],
   "source": [
    "def F(row,col_name): ### if State is Italy, Spain, Austria, Germany, Denmark, France                                                             \n",
    "    if row[col_name] == 'Italy': \n",
    "        val = 39\n",
    "    elif row[col_name] == 'Spain':\n",
    "        val = 14\n",
    "    elif row[col_name] == 'Austria':\n",
    "        val = 9\n",
    "    elif row[col_name] == 'Denmark':\n",
    "        val = 3\n",
    "    elif row[col_name] == 'Germany':\n",
    "        val = 1\n",
    "    elif row[col_name] == 'France':\n",
    "        val = 1\n",
    "    else:\n",
    "        val = 0\n",
    "\n",
    "    return val"
   ]
  },
  {
   "cell_type": "code",
   "execution_count": 6,
   "metadata": {},
   "outputs": [
    {
     "data": {
      "text/plain": [
       "543"
      ]
     },
     "execution_count": 6,
     "metadata": {},
     "output_type": "execute_result"
    }
   ],
   "source": [
    "df2 = Super_euro.loc[:, ['NAME_ENGL']]\n",
    "df2['Nu_Proc'] = df2.apply(lambda row: F(row,'NAME_ENGL') , axis=1)\n",
    "Super_euro = pd.concat([Super_euro, df2['Nu_Proc']], axis=1)\n",
    "del df2\n",
    "gc.collect()"
   ]
  },
  {
   "cell_type": "code",
   "execution_count": 7,
   "metadata": {},
   "outputs": [],
   "source": [
    "df3['Nu_Proc_Loc'] = df3.apply(lambda x: 1, axis=1)\n",
    "df_euro = df3.groupby('City').agg({ 'Nu_Proc_Loc': np.sum})\n",
    "df_eu = df3.loc[:, ['City', 'Latitude', 'Longitude']]\n",
    "df_eu = df_eu.drop_duplicates()\n",
    "df_euro = df_euro.reset_index()\n",
    "pro_sel = pd.merge(df_eu, df_euro, how='inner', left_on = 'City', right_on = 'City')"
   ]
  },
  {
   "cell_type": "code",
   "execution_count": 8,
   "metadata": {},
   "outputs": [],
   "source": [
    "pro_sel['Size_Scale'] = (pro_sel['Nu_Proc_Loc'])*2"
   ]
  },
  {
   "cell_type": "code",
   "execution_count": 9,
   "metadata": {},
   "outputs": [
    {
     "data": {
      "text/plain": [
       "42"
      ]
     },
     "execution_count": 9,
     "metadata": {},
     "output_type": "execute_result"
    }
   ],
   "source": [
    "Super_euro.drop('CNTR_ID', axis=1, inplace=True)\n",
    "Super_euro.drop('CNTR_NAME', axis=1, inplace=True)\n",
    "Super_euro.drop('ISO3_CODE', axis=1, inplace=True)\n",
    "Super_euro.drop('FID', axis=1, inplace=True)\n",
    "gc.collect()"
   ]
  },
  {
   "cell_type": "code",
   "execution_count": 10,
   "metadata": {},
   "outputs": [],
   "source": [
    "#pro_sel.sample(2)"
   ]
  },
  {
   "cell_type": "markdown",
   "metadata": {},
   "source": [
    "# Data Visualization using Bokeh"
   ]
  },
  {
   "cell_type": "code",
   "execution_count": 11,
   "metadata": {},
   "outputs": [],
   "source": [
    "import json\n",
    "from bokeh.io import output_file, output_notebook\n",
    "from bokeh.models import (CDSView, ColorBar, ColumnDataSource,  \n",
    "                          GroupFilter, CustomJS, CustomJSFilter, \n",
    "                          GeoJSONDataSource, HoverTool,\n",
    "                          LinearColorMapper, Slider)\n",
    "from bokeh.layouts import column, row, widgetbox\n",
    "from bokeh.palettes import brewer\n",
    "from bokeh.plotting import figure, save, show\n",
    "from bokeh.models import Range1d\n",
    "from bokeh.palettes import Viridis256 # Define color palettes\n",
    "from bokeh.transform import transform\n",
    "from bokeh.models import BasicTicker, PrintfTickFormatter\n"
   ]
  },
  {
   "cell_type": "markdown",
   "metadata": {},
   "source": [
    "# First Visualization of an Empty map of Europe"
   ]
  },
  {
   "cell_type": "code",
   "execution_count": 12,
   "metadata": {},
   "outputs": [],
   "source": [
    "# Name of the file.\n",
    "output_file('Empty_Europe_2020.html', title='Empty_Europe_2020')\n",
    "# Input GeoJSON source that contains features for plotting\n",
    "geosource = GeoJSONDataSource(geojson = Super_euro.to_json())\n",
    "\n",
    "p1 = figure(title = 'Europe 2020', \n",
    "           plot_height = 800 ,\n",
    "           plot_width = 1300, \n",
    "           toolbar_location = 'below',\n",
    "           tools = 'pan, wheel_zoom, box_zoom, reset')\n",
    "\n",
    "p1.xgrid.grid_line_color = None\n",
    "p1.ygrid.grid_line_color = None\n",
    "\n",
    "left, right, bottom, top = -13, 32, 30, 65\n",
    "p1.x_range=Range1d(left, right)\n",
    "p1.y_range=Range1d(bottom, top)\n",
    "\n",
    "# Add patch renderer to figure.\n",
    "states = p1.patches('xs','ys', source = geosource,\n",
    "                   fill_color = None,\n",
    "                   line_color = 'gray', \n",
    "                   line_width = 0.25, \n",
    "                   fill_alpha = 1.5)\n",
    "\n",
    "# Create hover tool\n",
    "p1.add_tools(HoverTool(renderers = [states],\n",
    "                      tooltips = [('State','@NAME_ENGL')]))\n",
    "    \n",
    "\n",
    "show(p1)"
   ]
  },
  {
   "cell_type": "markdown",
   "metadata": {},
   "source": [
    "# Second Visualization of a coloured Europe Map"
   ]
  },
  {
   "cell_type": "code",
   "execution_count": 20,
   "metadata": {},
   "outputs": [],
   "source": [
    "output_file('Custom_Coloured_Europe_2020.html', title='Custom_coloured_Europe_2020')\n",
    "\n",
    "geosource = GeoJSONDataSource(geojson = Super_euro.to_json())\n",
    "\n",
    "# Define color palettes\n",
    "palette = brewer['BuGn'][8]\n",
    "palette = palette[::-1] # reverse order of colors so higher values have darker colors\n",
    "# Instantiate LinearColorMapper that linearly maps numbers in a range, into a sequence of colors.\n",
    "color_mapper = LinearColorMapper(palette = palette, low = 0, high = 50)\n",
    "# Define custom tick labels for color bar.\n",
    "tick_labels = {'0': '0', '3':'3',\n",
    " '5':'5', '10':'10','15':'15',\n",
    " '20':'20', '25':'25',\n",
    " '30':'30', '40':'40', '50':'50+'}\n",
    "# Create color bar.\n",
    "color_bar = ColorBar(color_mapper = color_mapper, \n",
    "                     label_standoff = 10,\n",
    "                     width = 500, height = 20,\n",
    "                     border_line_color = None,\n",
    "                     location = (0,0), \n",
    "                     orientation = 'horizontal',\n",
    "                     major_label_overrides = tick_labels)\n",
    "\n",
    "# Create figure object.\n",
    "p2 = figure(title = 'Europe States - Selection Processes, 2019-2020', \n",
    "           plot_height = 600, plot_width = 950, \n",
    "           toolbar_location = 'below',\n",
    "           tools = 'pan, wheel_zoom, box_zoom, reset')\n",
    "p2.xgrid.grid_line_color = None\n",
    "p2.ygrid.grid_line_color = None\n",
    "#limit the map\n",
    "left, right, bottom, top = -13, 45, 30, 72\n",
    "p2.x_range=Range1d(left, right)\n",
    "p2.y_range=Range1d(bottom, top)\n",
    "# Add patch renderer to figure.\n",
    "states = p2.patches('xs','ys', source = geosource,\n",
    "                   fill_color = {'field' :'Nu_Proc',\n",
    "                                 'transform' : color_mapper},\n",
    "                   line_color = 'gray',  \n",
    "                   line_width = 0.25, \n",
    "                   fill_alpha = 1.5)\n",
    "\n",
    "# Create hover tool\n",
    "p2.add_tools(HoverTool(renderers = [states],\n",
    "                      tooltips = [('State','@NAME_ENGL'),\n",
    "                                 ('Number processes', '@Nu_Proc')]))\n",
    "    \n",
    "# Specify layout\n",
    "p2.add_layout(color_bar, 'below')\n",
    "show(p2)"
   ]
  },
  {
   "cell_type": "markdown",
   "metadata": {},
   "source": [
    "# Third Visualization of Europe coloured Viridis"
   ]
  },
  {
   "cell_type": "code",
   "execution_count": 70,
   "metadata": {},
   "outputs": [],
   "source": [
    "output_file('Viridis_col_Euro_2020.html', title='Viridis_col_Euro_2020')\n",
    "geosource = GeoJSONDataSource(geojson = Super_euro.to_json())\n",
    "\n",
    "# Define custom tick labels for color bar.\n",
    "color_mapper = LinearColorMapper(palette = Viridis256, low = 0, high = 50)\n",
    "#Define Color bar\n",
    "color_bar = ColorBar(color_mapper = color_mapper,\n",
    "                     location = (0, 0),\n",
    "                     ticker = BasicTicker())\n",
    "\n",
    "# Create figure object.\n",
    "p2 = figure(title = 'Europe States - Selection Processes, 2019-2020', \n",
    "           plot_height = 800, plot_width = 1300, \n",
    "           toolbar_location = 'below',\n",
    "           tools = 'pan, wheel_zoom, box_zoom, reset')\n",
    "p2.xgrid.grid_line_color = None\n",
    "p2.ygrid.grid_line_color = None\n",
    "#limit the map\n",
    "left, right, bottom, top = -13, 32, 30, 65\n",
    "p2.x_range=Range1d(left, right)\n",
    "p2.y_range=Range1d(bottom, top)\n",
    "# Add patch renderer to figure.\n",
    "states = p2.patches('xs','ys', source = geosource,\n",
    "                   fill_color = {'field' :'Nu_Proc',\n",
    "                                 'transform' : color_mapper},\n",
    "                   line_color = 'gray',  \n",
    "                   line_width = 0.25, \n",
    "                   fill_alpha = 1.5)\n",
    "\n",
    "# Create hover tool\n",
    "p2.add_tools(HoverTool(renderers = [states],\n",
    "                      tooltips = [('State','@NAME_ENGL'),\n",
    "                                 ('Number processes', '@Nu_Proc')]))\n",
    "    \n",
    "# Specify layout\n",
    "p2.add_layout(color_bar, 'right')\n",
    "show(p2)"
   ]
  },
  {
   "cell_type": "code",
   "execution_count": 59,
   "metadata": {},
   "outputs": [],
   "source": [
    "######### Get x and y coordinates\n",
    "###df4['geometry'] = geometry\n",
    "#df4['x'] = [geometry.x for geometry in df4['geometry']]\n",
    "#df4['y'] = [geometry.y for geometry in df4['geometry']]\n",
    "#p_df = df4.drop('geometry', axis = 1).copy()\n"
   ]
  },
  {
   "cell_type": "markdown",
   "metadata": {},
   "source": [
    "# GEOLOCALIZATION OF SELECTION PROCESSES IN Europe coloured Viridis"
   ]
  },
  {
   "cell_type": "code",
   "execution_count": 13,
   "metadata": {},
   "outputs": [],
   "source": [
    "output_file('Vir_col_Geoprocess_2020.html', title='Vir_col_Geoprocess_2020')\n",
    "\n",
    "geosource = GeoJSONDataSource(geojson=Super_euro.to_json())\n",
    "source = ColumnDataSource(pro_sel)\n",
    "\n",
    "#Italy_filters = [GroupFilter(column_name='State', group=\"Italy\")]\n",
    "#Italy_view = CDSView(source=source, filters=Italy_filters)\n",
    "#Spain_filters = [GroupFilter(column_name='State', group=\"Spain\")]\n",
    "#Spain_view = CDSView(source=source, filters=Spain_filters)\n",
    "\n",
    "#palette1 =['#000000', '#333333', '#666666', '#999999', '#cccccc', '#ffffff']\n",
    "#color_mapper1 = LinearColorMapper(palette = palette1, low = 0, high = 15)\n",
    "\n",
    "# Define custom tick labels for color bar.\n",
    "color_mapper = LinearColorMapper(palette = Viridis256, low = 0, high = 50)\n",
    "#Define Color bar\n",
    "color_bar = ColorBar(color_mapper = color_mapper,\n",
    "                     location = (0, 0),\n",
    "                     ticker = BasicTicker())\n",
    "# Specify the selection tools to be made available\n",
    "select_tools = ['pan, box_zoom, reset']\n",
    "# Create figure object.\n",
    "p = figure(title = 'Europe States - Selection Processes, 2019-2020', \n",
    "           plot_height = 800, plot_width = 1300, \n",
    "           toolbar_location = 'below',\n",
    "           tools = select_tools)\n",
    "p.xgrid.grid_line_color = None\n",
    "p.ygrid.grid_line_color = None\n",
    "#####limit the map\n",
    "left, right, bottom, top = -13, 32, 30, 65\n",
    "p.x_range=Range1d(left, right)\n",
    "p.y_range=Range1d(bottom, top)\n",
    "##### Ad#d patch renderer to figure.\n",
    "states = p.patches('xs','ys', source = geosource,\n",
    "                   fill_color = {'field' :'Nu_Proc',\n",
    "                                 'transform' : color_mapper},\n",
    "                   line_color = 'gray',  \n",
    "                   line_width = 0.25, \n",
    "                   fill_alpha = 1.5)\n",
    "\n",
    "circle = p.circle(x='Longitude', y='Latitude', \n",
    "                  source = source, \n",
    "                  #fill_color = {'field' :'Nu_Proc_Loc',\n",
    "                                 #'transform' : color_mapper1},\n",
    "                  #line_color = 'gray',\n",
    "                  #line_width = 0.25) \n",
    "                  size= 'Size_Scale',\n",
    "                  color='red')\n",
    "         \n",
    "         \n",
    "#p.circle(x='Longitude' , y='Latitude', \n",
    "         #source = source , \n",
    "         #view = Italy_view,\n",
    "         #legend_label='Italy',\n",
    "         #selection_color='deepskyblue',\n",
    "         #nonselection_color='lightgray',\n",
    "         #color='red', \n",
    "         #size=7,\n",
    "         #nonselection_alpha=0.5)\n",
    "\n",
    "#p.square(x='Longitude' , y='Latitude', \n",
    "         #source = source , \n",
    "         #view = Spain_view,\n",
    "         #legend_label='Spain',\n",
    "         #selection_color='deepskyblue',\n",
    "         #nonselection_color='lightgray',\n",
    "         #color='red', \n",
    "         #size=7,\n",
    "         #nonselection_alpha=0.5)\n",
    "\n",
    "# Create hover tool\n",
    "phover = HoverTool(renderers=[circle])\n",
    "phover.tooltips=[('City', '@City'), ('Location Processes' , '@Nu_Proc_Loc')]\n",
    "ghover = HoverTool(renderers=[states])\n",
    "ghover.tooltips=[('State','@NAME_ENGL'), ('Country processes', '@Nu_Proc')]\n",
    "\n",
    "p.add_tools(ghover)\n",
    "p.add_tools(phover)\n",
    "                 \n",
    "#### Move the legend to the upper left corner\n",
    "#p.legend.location = 'top_left'\n",
    "#p.legend.click_policy=\"hide\"\n",
    "\n",
    "# Specify layout\n",
    "p.add_layout(color_bar, 'right')\n",
    "show(p)"
   ]
  },
  {
   "cell_type": "code",
   "execution_count": null,
   "metadata": {},
   "outputs": [],
   "source": []
  }
 ],
 "metadata": {
  "kernelspec": {
   "display_name": "Python 3",
   "language": "python",
   "name": "python3"
  },
  "language_info": {
   "codemirror_mode": {
    "name": "ipython",
    "version": 3
   },
   "file_extension": ".py",
   "mimetype": "text/x-python",
   "name": "python",
   "nbconvert_exporter": "python",
   "pygments_lexer": "ipython3",
   "version": "3.6.3"
  }
 },
 "nbformat": 4,
 "nbformat_minor": 2
}
